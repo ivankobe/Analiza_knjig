{
 "cells": [
  {
   "cell_type": "code",
   "execution_count": 119,
   "metadata": {},
   "outputs": [],
   "source": [
    "import pandas as pd"
   ]
  },
  {
   "cell_type": "code",
   "execution_count": 120,
   "metadata": {},
   "outputs": [],
   "source": [
    "books = pd.read_csv('./data/books.csv')"
   ]
  },
  {
   "cell_type": "code",
   "execution_count": 121,
   "metadata": {},
   "outputs": [
    {
     "data": {
      "text/html": [
       "<div>\n",
       "<style scoped>\n",
       "    .dataframe tbody tr th:only-of-type {\n",
       "        vertical-align: middle;\n",
       "    }\n",
       "\n",
       "    .dataframe tbody tr th {\n",
       "        vertical-align: top;\n",
       "    }\n",
       "\n",
       "    .dataframe thead th {\n",
       "        text-align: right;\n",
       "    }\n",
       "</style>\n",
       "<table border=\"1\" class=\"dataframe\">\n",
       "  <thead>\n",
       "    <tr style=\"text-align: right;\">\n",
       "      <th></th>\n",
       "      <th>title</th>\n",
       "      <th>author</th>\n",
       "      <th>order</th>\n",
       "      <th>rating</th>\n",
       "      <th>publication_year</th>\n",
       "      <th>num_pages</th>\n",
       "    </tr>\n",
       "  </thead>\n",
       "  <tbody>\n",
       "    <tr>\n",
       "      <th>0</th>\n",
       "      <td>The Hunger Games</td>\n",
       "      <td>Suzanne Collins</td>\n",
       "      <td>1</td>\n",
       "      <td>4.32</td>\n",
       "      <td>2008</td>\n",
       "      <td>374</td>\n",
       "    </tr>\n",
       "    <tr>\n",
       "      <th>1</th>\n",
       "      <td>Harry Potter and the Order of the Phoenix</td>\n",
       "      <td>J.K. Rowling</td>\n",
       "      <td>2</td>\n",
       "      <td>4.50</td>\n",
       "      <td>2003</td>\n",
       "      <td>870</td>\n",
       "    </tr>\n",
       "    <tr>\n",
       "      <th>2</th>\n",
       "      <td>To Kill a Mockingbird</td>\n",
       "      <td>Harper Lee</td>\n",
       "      <td>3</td>\n",
       "      <td>4.28</td>\n",
       "      <td>1960</td>\n",
       "      <td>324</td>\n",
       "    </tr>\n",
       "    <tr>\n",
       "      <th>3</th>\n",
       "      <td>Pride and Prejudice</td>\n",
       "      <td>Jane Austen</td>\n",
       "      <td>4</td>\n",
       "      <td>4.27</td>\n",
       "      <td>1813</td>\n",
       "      <td>279</td>\n",
       "    </tr>\n",
       "    <tr>\n",
       "      <th>4</th>\n",
       "      <td>Twilight</td>\n",
       "      <td>Stephenie Meyer</td>\n",
       "      <td>5</td>\n",
       "      <td>3.61</td>\n",
       "      <td>2005</td>\n",
       "      <td>501</td>\n",
       "    </tr>\n",
       "    <tr>\n",
       "      <th>...</th>\n",
       "      <td>...</td>\n",
       "      <td>...</td>\n",
       "      <td>...</td>\n",
       "      <td>...</td>\n",
       "      <td>...</td>\n",
       "      <td>...</td>\n",
       "    </tr>\n",
       "    <tr>\n",
       "      <th>8207</th>\n",
       "      <td>Portrait of an Unknown Woman</td>\n",
       "      <td>Vanora Bennett</td>\n",
       "      <td>8208</td>\n",
       "      <td>3.66</td>\n",
       "      <td>2006</td>\n",
       "      <td>423</td>\n",
       "    </tr>\n",
       "    <tr>\n",
       "      <th>8208</th>\n",
       "      <td>Signora Da Vinci</td>\n",
       "      <td>Robin Maxwell</td>\n",
       "      <td>8209</td>\n",
       "      <td>3.90</td>\n",
       "      <td>2008</td>\n",
       "      <td>448</td>\n",
       "    </tr>\n",
       "    <tr>\n",
       "      <th>8209</th>\n",
       "      <td>Zoia's Gold</td>\n",
       "      <td>Philip Sington</td>\n",
       "      <td>8210</td>\n",
       "      <td>3.89</td>\n",
       "      <td>2005</td>\n",
       "      <td>389</td>\n",
       "    </tr>\n",
       "    <tr>\n",
       "      <th>8210</th>\n",
       "      <td>The Way Back to Florence</td>\n",
       "      <td>Glenn Haybittle</td>\n",
       "      <td>8211</td>\n",
       "      <td>4.19</td>\n",
       "      <td>2015</td>\n",
       "      <td>492</td>\n",
       "    </tr>\n",
       "    <tr>\n",
       "      <th>8211</th>\n",
       "      <td>Artemisia</td>\n",
       "      <td>Alexandra Lapierre</td>\n",
       "      <td>8212</td>\n",
       "      <td>3.93</td>\n",
       "      <td>1999</td>\n",
       "      <td>427</td>\n",
       "    </tr>\n",
       "  </tbody>\n",
       "</table>\n",
       "<p>8212 rows × 6 columns</p>\n",
       "</div>"
      ],
      "text/plain": [
       "                                          title              author  order  \\\n",
       "0                              The Hunger Games     Suzanne Collins      1   \n",
       "1     Harry Potter and the Order of the Phoenix        J.K. Rowling      2   \n",
       "2                         To Kill a Mockingbird          Harper Lee      3   \n",
       "3                           Pride and Prejudice         Jane Austen      4   \n",
       "4                                      Twilight     Stephenie Meyer      5   \n",
       "...                                         ...                 ...    ...   \n",
       "8207               Portrait of an Unknown Woman      Vanora Bennett   8208   \n",
       "8208                           Signora Da Vinci       Robin Maxwell   8209   \n",
       "8209                                Zoia's Gold      Philip Sington   8210   \n",
       "8210                   The Way Back to Florence     Glenn Haybittle   8211   \n",
       "8211                                  Artemisia  Alexandra Lapierre   8212   \n",
       "\n",
       "      rating  publication_year  num_pages  \n",
       "0       4.32              2008        374  \n",
       "1       4.50              2003        870  \n",
       "2       4.28              1960        324  \n",
       "3       4.27              1813        279  \n",
       "4       3.61              2005        501  \n",
       "...      ...               ...        ...  \n",
       "8207    3.66              2006        423  \n",
       "8208    3.90              2008        448  \n",
       "8209    3.89              2005        389  \n",
       "8210    4.19              2015        492  \n",
       "8211    3.93              1999        427  \n",
       "\n",
       "[8212 rows x 6 columns]"
      ]
     },
     "execution_count": 121,
     "metadata": {},
     "output_type": "execute_result"
    }
   ],
   "source": [
    "books"
   ]
  },
  {
   "cell_type": "code",
   "execution_count": 122,
   "metadata": {},
   "outputs": [],
   "source": [
    "genres = pd.read_csv('./data/genres.csv')"
   ]
  },
  {
   "cell_type": "code",
   "execution_count": 123,
   "metadata": {},
   "outputs": [
    {
     "data": {
      "text/html": [
       "<div>\n",
       "<style scoped>\n",
       "    .dataframe tbody tr th:only-of-type {\n",
       "        vertical-align: middle;\n",
       "    }\n",
       "\n",
       "    .dataframe tbody tr th {\n",
       "        vertical-align: top;\n",
       "    }\n",
       "\n",
       "    .dataframe thead th {\n",
       "        text-align: right;\n",
       "    }\n",
       "</style>\n",
       "<table border=\"1\" class=\"dataframe\">\n",
       "  <thead>\n",
       "    <tr style=\"text-align: right;\">\n",
       "      <th></th>\n",
       "      <th>title</th>\n",
       "      <th>genre</th>\n",
       "    </tr>\n",
       "  </thead>\n",
       "  <tbody>\n",
       "    <tr>\n",
       "      <th>0</th>\n",
       "      <td>The Hunger Games</td>\n",
       "      <td>Fiction</td>\n",
       "    </tr>\n",
       "    <tr>\n",
       "      <th>1</th>\n",
       "      <td>The Hunger Games</td>\n",
       "      <td>Dystopia</td>\n",
       "    </tr>\n",
       "    <tr>\n",
       "      <th>2</th>\n",
       "      <td>The Hunger Games</td>\n",
       "      <td>Fantasy</td>\n",
       "    </tr>\n",
       "    <tr>\n",
       "      <th>3</th>\n",
       "      <td>The Hunger Games</td>\n",
       "      <td>Romance</td>\n",
       "    </tr>\n",
       "    <tr>\n",
       "      <th>4</th>\n",
       "      <td>The Hunger Games</td>\n",
       "      <td>Adventure</td>\n",
       "    </tr>\n",
       "    <tr>\n",
       "      <th>...</th>\n",
       "      <td>...</td>\n",
       "      <td>...</td>\n",
       "    </tr>\n",
       "    <tr>\n",
       "      <th>39074</th>\n",
       "      <td>Artemisia</td>\n",
       "      <td>Historical</td>\n",
       "    </tr>\n",
       "    <tr>\n",
       "      <th>39075</th>\n",
       "      <td>Artemisia</td>\n",
       "      <td>Art</td>\n",
       "    </tr>\n",
       "    <tr>\n",
       "      <th>39076</th>\n",
       "      <td>Artemisia</td>\n",
       "      <td>Fiction</td>\n",
       "    </tr>\n",
       "    <tr>\n",
       "      <th>39077</th>\n",
       "      <td>Artemisia</td>\n",
       "      <td>Cultural</td>\n",
       "    </tr>\n",
       "    <tr>\n",
       "      <th>39078</th>\n",
       "      <td>Artemisia</td>\n",
       "      <td>Italy</td>\n",
       "    </tr>\n",
       "  </tbody>\n",
       "</table>\n",
       "<p>39079 rows × 2 columns</p>\n",
       "</div>"
      ],
      "text/plain": [
       "                  title       genre\n",
       "0      The Hunger Games     Fiction\n",
       "1      The Hunger Games    Dystopia\n",
       "2      The Hunger Games     Fantasy\n",
       "3      The Hunger Games     Romance\n",
       "4      The Hunger Games   Adventure\n",
       "...                 ...         ...\n",
       "39074         Artemisia  Historical\n",
       "39075         Artemisia         Art\n",
       "39076         Artemisia     Fiction\n",
       "39077         Artemisia    Cultural\n",
       "39078         Artemisia       Italy\n",
       "\n",
       "[39079 rows x 2 columns]"
      ]
     },
     "execution_count": 123,
     "metadata": {},
     "output_type": "execute_result"
    }
   ],
   "source": [
    "genres"
   ]
  },
  {
   "cell_type": "markdown",
   "metadata": {},
   "source": [
    "Zanimajo nas le knjige z oceno 4 ali več, ki so izšle po letu 1500"
   ]
  },
  {
   "cell_type": "code",
   "execution_count": 124,
   "metadata": {},
   "outputs": [],
   "source": [
    "books = books[(books.rating > 4) & (books.publication_year >= 1500)]"
   ]
  },
  {
   "cell_type": "code",
   "execution_count": 125,
   "metadata": {},
   "outputs": [
    {
     "name": "stderr",
     "output_type": "stream",
     "text": [
      "<ipython-input-125-b48cf624fb20>:1: SettingWithCopyWarning: \n",
      "A value is trying to be set on a copy of a slice from a DataFrame.\n",
      "Try using .loc[row_indexer,col_indexer] = value instead\n",
      "\n",
      "See the caveats in the documentation: https://pandas.pydata.org/pandas-docs/stable/user_guide/indexing.html#returning-a-view-versus-a-copy\n",
      "  books['decade'] = books['publication_year'] // 10 * 10\n"
     ]
    }
   ],
   "source": [
    "books['decade'] = books['publication_year'] // 10 * 10"
   ]
  },
  {
   "cell_type": "code",
   "execution_count": 126,
   "metadata": {},
   "outputs": [],
   "source": [
    "decade_count = books.groupby('decade').count()\n",
    "decade_count = decade_count['title']\n",
    "decade_count = decade_count.sort_values(ascending=False)"
   ]
  },
  {
   "cell_type": "markdown",
   "metadata": {},
   "source": [
    "Desetletja z največ uspešnicami "
   ]
  },
  {
   "cell_type": "code",
   "execution_count": 127,
   "metadata": {},
   "outputs": [
    {
     "data": {
      "text/plain": [
       "decade\n",
       "2000    770\n",
       "1990    667\n",
       "1980    517\n",
       "2010    397\n",
       "1970    196\n",
       "1960    170\n",
       "1950    152\n",
       "1940    102\n",
       "1930     84\n",
       "1920     60\n",
       "Name: title, dtype: int64"
      ]
     },
     "execution_count": 127,
     "metadata": {},
     "output_type": "execute_result"
    }
   ],
   "source": [
    "decade_count.head(10)"
   ]
  },
  {
   "cell_type": "markdown",
   "metadata": {},
   "source": [
    "Komentar: potrdila se je hipoteza, da so najbolj brane knjige sodobne"
   ]
  },
  {
   "cell_type": "code",
   "execution_count": 128,
   "metadata": {},
   "outputs": [],
   "source": [
    "best_authors = books.groupby('author').count()"
   ]
  },
  {
   "cell_type": "code",
   "execution_count": 129,
   "metadata": {},
   "outputs": [],
   "source": [
    "best_authors = best_authors[['title']].rename({'title':'count'}, axis=1)"
   ]
  },
  {
   "cell_type": "markdown",
   "metadata": {},
   "source": [
    "Dvajset najuspešnejših avtorjev"
   ]
  },
  {
   "cell_type": "code",
   "execution_count": 130,
   "metadata": {},
   "outputs": [
    {
     "data": {
      "text/html": [
       "<div>\n",
       "<style scoped>\n",
       "    .dataframe tbody tr th:only-of-type {\n",
       "        vertical-align: middle;\n",
       "    }\n",
       "\n",
       "    .dataframe tbody tr th {\n",
       "        vertical-align: top;\n",
       "    }\n",
       "\n",
       "    .dataframe thead th {\n",
       "        text-align: right;\n",
       "    }\n",
       "</style>\n",
       "<table border=\"1\" class=\"dataframe\">\n",
       "  <thead>\n",
       "    <tr style=\"text-align: right;\">\n",
       "      <th></th>\n",
       "      <th>count</th>\n",
       "    </tr>\n",
       "    <tr>\n",
       "      <th>author</th>\n",
       "      <th></th>\n",
       "    </tr>\n",
       "  </thead>\n",
       "  <tbody>\n",
       "    <tr>\n",
       "      <th>Terry Pratchett</th>\n",
       "      <td>45</td>\n",
       "    </tr>\n",
       "    <tr>\n",
       "      <th>Nora Roberts</th>\n",
       "      <td>31</td>\n",
       "    </tr>\n",
       "    <tr>\n",
       "      <th>Neil Gaiman</th>\n",
       "      <td>21</td>\n",
       "    </tr>\n",
       "    <tr>\n",
       "      <th>Stephen King</th>\n",
       "      <td>20</td>\n",
       "    </tr>\n",
       "    <tr>\n",
       "      <th>Ellis Peters</th>\n",
       "      <td>17</td>\n",
       "    </tr>\n",
       "    <tr>\n",
       "      <th>Tamora Pierce</th>\n",
       "      <td>17</td>\n",
       "    </tr>\n",
       "    <tr>\n",
       "      <th>Tony Hillerman</th>\n",
       "      <td>15</td>\n",
       "    </tr>\n",
       "    <tr>\n",
       "      <th>Lois McMaster Bujold</th>\n",
       "      <td>13</td>\n",
       "    </tr>\n",
       "    <tr>\n",
       "      <th>Michael Connelly</th>\n",
       "      <td>13</td>\n",
       "    </tr>\n",
       "    <tr>\n",
       "      <th>Bernard Cornwell</th>\n",
       "      <td>13</td>\n",
       "    </tr>\n",
       "    <tr>\n",
       "      <th>David Eddings</th>\n",
       "      <td>12</td>\n",
       "    </tr>\n",
       "    <tr>\n",
       "      <th>Robert Jordan</th>\n",
       "      <td>11</td>\n",
       "    </tr>\n",
       "    <tr>\n",
       "      <th>Isaac Asimov</th>\n",
       "      <td>11</td>\n",
       "    </tr>\n",
       "    <tr>\n",
       "      <th>J.D. Robb</th>\n",
       "      <td>11</td>\n",
       "    </tr>\n",
       "    <tr>\n",
       "      <th>William Kent Krueger</th>\n",
       "      <td>11</td>\n",
       "    </tr>\n",
       "    <tr>\n",
       "      <th>Marguerite Henry</th>\n",
       "      <td>11</td>\n",
       "    </tr>\n",
       "    <tr>\n",
       "      <th>Anne McCaffrey</th>\n",
       "      <td>11</td>\n",
       "    </tr>\n",
       "    <tr>\n",
       "      <th>Darren Shan</th>\n",
       "      <td>10</td>\n",
       "    </tr>\n",
       "    <tr>\n",
       "      <th>Gerald N. Lund</th>\n",
       "      <td>10</td>\n",
       "    </tr>\n",
       "    <tr>\n",
       "      <th>C.S. Lewis</th>\n",
       "      <td>10</td>\n",
       "    </tr>\n",
       "  </tbody>\n",
       "</table>\n",
       "</div>"
      ],
      "text/plain": [
       "                      count\n",
       "author                     \n",
       "Terry Pratchett          45\n",
       "Nora Roberts             31\n",
       "Neil Gaiman              21\n",
       "Stephen King             20\n",
       "Ellis Peters             17\n",
       "Tamora Pierce            17\n",
       "Tony Hillerman           15\n",
       "Lois McMaster Bujold     13\n",
       "Michael Connelly         13\n",
       "Bernard Cornwell         13\n",
       "David Eddings            12\n",
       "Robert Jordan            11\n",
       "Isaac Asimov             11\n",
       "J.D. Robb                11\n",
       "William Kent Krueger     11\n",
       "Marguerite Henry         11\n",
       "Anne McCaffrey           11\n",
       "Darren Shan              10\n",
       "Gerald N. Lund           10\n",
       "C.S. Lewis               10"
      ]
     },
     "execution_count": 130,
     "metadata": {},
     "output_type": "execute_result"
    }
   ],
   "source": [
    "best_authors.sort_values('count', ascending=False).head(20)"
   ]
  },
  {
   "cell_type": "markdown",
   "metadata": {},
   "source": [
    "Komentar: potrdila se je hipoteza, da so najuspešnejši avtorji večinoma moški"
   ]
  },
  {
   "cell_type": "markdown",
   "metadata": {},
   "source": [
    "Korelacija letnica-ocena"
   ]
  },
  {
   "cell_type": "code",
   "execution_count": 131,
   "metadata": {},
   "outputs": [
    {
     "data": {
      "text/plain": [
       "<matplotlib.axes._subplots.AxesSubplot at 0x7ff9cc8d4d00>"
      ]
     },
     "execution_count": 131,
     "metadata": {},
     "output_type": "execute_result"
    },
    {
     "data": {
      "image/png": "[encoded data removed]",
      "text/plain": [
       "<Figure size 432x288 with 1 Axes>"
      ]
     },
     "metadata": {
      "needs_background": "light"
     },
     "output_type": "display_data"
    }
   ],
   "source": [
    "books.plot(kind = 'scatter', x = 'decade', y = 'rating')"
   ]
  },
  {
   "cell_type": "markdown",
   "metadata": {},
   "source": [
    "Komentar: v nasprotju s predvidevanji vidimo, da z leti ne narašča le število popularnih knjih, temveč tudi njihova ocena"
   ]
  },
  {
   "cell_type": "code",
   "execution_count": 132,
   "metadata": {},
   "outputs": [
    {
     "data": {
      "text/html": [
       "<div>\n",
       "<style scoped>\n",
       "    .dataframe tbody tr th:only-of-type {\n",
       "        vertical-align: middle;\n",
       "    }\n",
       "\n",
       "    .dataframe tbody tr th {\n",
       "        vertical-align: top;\n",
       "    }\n",
       "\n",
       "    .dataframe thead th {\n",
       "        text-align: right;\n",
       "    }\n",
       "</style>\n",
       "<table border=\"1\" class=\"dataframe\">\n",
       "  <thead>\n",
       "    <tr style=\"text-align: right;\">\n",
       "      <th></th>\n",
       "      <th>title</th>\n",
       "      <th>author</th>\n",
       "      <th>order</th>\n",
       "      <th>rating</th>\n",
       "      <th>publication_year</th>\n",
       "      <th>num_pages</th>\n",
       "      <th>decade</th>\n",
       "    </tr>\n",
       "  </thead>\n",
       "  <tbody>\n",
       "    <tr>\n",
       "      <th>0</th>\n",
       "      <td>The Hunger Games</td>\n",
       "      <td>Suzanne Collins</td>\n",
       "      <td>1</td>\n",
       "      <td>4.32</td>\n",
       "      <td>2008</td>\n",
       "      <td>374</td>\n",
       "      <td>2000</td>\n",
       "    </tr>\n",
       "    <tr>\n",
       "      <th>3</th>\n",
       "      <td>Pride and Prejudice</td>\n",
       "      <td>Jane Austen</td>\n",
       "      <td>4</td>\n",
       "      <td>4.27</td>\n",
       "      <td>1813</td>\n",
       "      <td>279</td>\n",
       "      <td>1810</td>\n",
       "    </tr>\n",
       "    <tr>\n",
       "      <th>9</th>\n",
       "      <td>The Fault in Our Stars</td>\n",
       "      <td>John Green</td>\n",
       "      <td>10</td>\n",
       "      <td>4.18</td>\n",
       "      <td>2012</td>\n",
       "      <td>313</td>\n",
       "      <td>2010</td>\n",
       "    </tr>\n",
       "    <tr>\n",
       "      <th>10</th>\n",
       "      <td>Gone with the Wind</td>\n",
       "      <td>Margaret Mitchell</td>\n",
       "      <td>11</td>\n",
       "      <td>4.30</td>\n",
       "      <td>1936</td>\n",
       "      <td>1037</td>\n",
       "      <td>1930</td>\n",
       "    </tr>\n",
       "    <tr>\n",
       "      <th>16</th>\n",
       "      <td>Memoirs of a Geisha</td>\n",
       "      <td>Arthur Golden</td>\n",
       "      <td>17</td>\n",
       "      <td>4.13</td>\n",
       "      <td>1997</td>\n",
       "      <td>503</td>\n",
       "      <td>1990</td>\n",
       "    </tr>\n",
       "    <tr>\n",
       "      <th>...</th>\n",
       "      <td>...</td>\n",
       "      <td>...</td>\n",
       "      <td>...</td>\n",
       "      <td>...</td>\n",
       "      <td>...</td>\n",
       "      <td>...</td>\n",
       "      <td>...</td>\n",
       "    </tr>\n",
       "    <tr>\n",
       "      <th>8012</th>\n",
       "      <td>Where the Crawdads Sing</td>\n",
       "      <td>Delia Owens</td>\n",
       "      <td>8013</td>\n",
       "      <td>4.46</td>\n",
       "      <td>2018</td>\n",
       "      <td>384</td>\n",
       "      <td>2010</td>\n",
       "    </tr>\n",
       "    <tr>\n",
       "      <th>8110</th>\n",
       "      <td>The V Girl: A Coming of Age Story</td>\n",
       "      <td>Mya Robarts</td>\n",
       "      <td>8111</td>\n",
       "      <td>4.03</td>\n",
       "      <td>2015</td>\n",
       "      <td>338</td>\n",
       "      <td>2010</td>\n",
       "    </tr>\n",
       "    <tr>\n",
       "      <th>8113</th>\n",
       "      <td>Fortune Calling</td>\n",
       "      <td>Hunter S. Jones</td>\n",
       "      <td>8114</td>\n",
       "      <td>4.53</td>\n",
       "      <td>2014</td>\n",
       "      <td>23</td>\n",
       "      <td>2010</td>\n",
       "    </tr>\n",
       "    <tr>\n",
       "      <th>8147</th>\n",
       "      <td>The Curtain Rises</td>\n",
       "      <td>Mary Burchell</td>\n",
       "      <td>8148</td>\n",
       "      <td>4.02</td>\n",
       "      <td>1969</td>\n",
       "      <td>188</td>\n",
       "      <td>1960</td>\n",
       "    </tr>\n",
       "    <tr>\n",
       "      <th>8198</th>\n",
       "      <td>Hunting and Gathering</td>\n",
       "      <td>Anna Gavalda</td>\n",
       "      <td>8199</td>\n",
       "      <td>4.11</td>\n",
       "      <td>2004</td>\n",
       "      <td>488</td>\n",
       "      <td>2000</td>\n",
       "    </tr>\n",
       "  </tbody>\n",
       "</table>\n",
       "<p>437 rows × 7 columns</p>\n",
       "</div>"
      ],
      "text/plain": [
       "                                  title             author  order  rating  \\\n",
       "0                      The Hunger Games    Suzanne Collins      1    4.32   \n",
       "3                   Pride and Prejudice        Jane Austen      4    4.27   \n",
       "9                The Fault in Our Stars         John Green     10    4.18   \n",
       "10                   Gone with the Wind  Margaret Mitchell     11    4.30   \n",
       "16                  Memoirs of a Geisha      Arthur Golden     17    4.13   \n",
       "...                                 ...                ...    ...     ...   \n",
       "8012            Where the Crawdads Sing        Delia Owens   8013    4.46   \n",
       "8110  The V Girl: A Coming of Age Story        Mya Robarts   8111    4.03   \n",
       "8113                    Fortune Calling    Hunter S. Jones   8114    4.53   \n",
       "8147                  The Curtain Rises      Mary Burchell   8148    4.02   \n",
       "8198              Hunting and Gathering       Anna Gavalda   8199    4.11   \n",
       "\n",
       "      publication_year  num_pages  decade  \n",
       "0                 2008        374    2000  \n",
       "3                 1813        279    1810  \n",
       "9                 2012        313    2010  \n",
       "10                1936       1037    1930  \n",
       "16                1997        503    1990  \n",
       "...                ...        ...     ...  \n",
       "8012              2018        384    2010  \n",
       "8110              2015        338    2010  \n",
       "8113              2014         23    2010  \n",
       "8147              1969        188    1960  \n",
       "8198              2004        488    2000  \n",
       "\n",
       "[437 rows x 7 columns]"
      ]
     },
     "execution_count": 132,
     "metadata": {},
     "output_type": "execute_result"
    }
   ],
   "source": [
    "romances = books[books.title.isin(genres[genres.genre == 'Romance'].title)]\n",
    "romances"
   ]
  },
  {
   "cell_type": "code",
   "execution_count": 133,
   "metadata": {},
   "outputs": [
    {
     "name": "stderr",
     "output_type": "stream",
     "text": [
      "<ipython-input-133-48d50f2e3477>:1: SettingWithCopyWarning: \n",
      "A value is trying to be set on a copy of a slice from a DataFrame.\n",
      "Try using .loc[row_indexer,col_indexer] = value instead\n",
      "\n",
      "See the caveats in the documentation: https://pandas.pydata.org/pandas-docs/stable/user_guide/indexing.html#returning-a-view-versus-a-copy\n",
      "  romances['century'] = romances['decade'] // 100 * 100\n"
     ]
    }
   ],
   "source": [
    "romances['century'] = romances['decade'] // 100 * 100"
   ]
  },
  {
   "cell_type": "code",
   "execution_count": 134,
   "metadata": {},
   "outputs": [
    {
     "data": {
      "text/html": [
       "<div>\n",
       "<style scoped>\n",
       "    .dataframe tbody tr th:only-of-type {\n",
       "        vertical-align: middle;\n",
       "    }\n",
       "\n",
       "    .dataframe tbody tr th {\n",
       "        vertical-align: top;\n",
       "    }\n",
       "\n",
       "    .dataframe thead th {\n",
       "        text-align: right;\n",
       "    }\n",
       "</style>\n",
       "<table border=\"1\" class=\"dataframe\">\n",
       "  <thead>\n",
       "    <tr style=\"text-align: right;\">\n",
       "      <th></th>\n",
       "      <th>title</th>\n",
       "      <th>author</th>\n",
       "      <th>order</th>\n",
       "      <th>rating</th>\n",
       "      <th>publication_year</th>\n",
       "      <th>num_pages</th>\n",
       "      <th>decade</th>\n",
       "      <th>century</th>\n",
       "    </tr>\n",
       "  </thead>\n",
       "  <tbody>\n",
       "    <tr>\n",
       "      <th>0</th>\n",
       "      <td>The Hunger Games</td>\n",
       "      <td>Suzanne Collins</td>\n",
       "      <td>1</td>\n",
       "      <td>4.32</td>\n",
       "      <td>2008</td>\n",
       "      <td>374</td>\n",
       "      <td>2000</td>\n",
       "      <td>2000</td>\n",
       "    </tr>\n",
       "    <tr>\n",
       "      <th>3</th>\n",
       "      <td>Pride and Prejudice</td>\n",
       "      <td>Jane Austen</td>\n",
       "      <td>4</td>\n",
       "      <td>4.27</td>\n",
       "      <td>1813</td>\n",
       "      <td>279</td>\n",
       "      <td>1810</td>\n",
       "      <td>1800</td>\n",
       "    </tr>\n",
       "    <tr>\n",
       "      <th>9</th>\n",
       "      <td>The Fault in Our Stars</td>\n",
       "      <td>John Green</td>\n",
       "      <td>10</td>\n",
       "      <td>4.18</td>\n",
       "      <td>2012</td>\n",
       "      <td>313</td>\n",
       "      <td>2010</td>\n",
       "      <td>2000</td>\n",
       "    </tr>\n",
       "    <tr>\n",
       "      <th>10</th>\n",
       "      <td>Gone with the Wind</td>\n",
       "      <td>Margaret Mitchell</td>\n",
       "      <td>11</td>\n",
       "      <td>4.30</td>\n",
       "      <td>1936</td>\n",
       "      <td>1037</td>\n",
       "      <td>1930</td>\n",
       "      <td>1900</td>\n",
       "    </tr>\n",
       "    <tr>\n",
       "      <th>16</th>\n",
       "      <td>Memoirs of a Geisha</td>\n",
       "      <td>Arthur Golden</td>\n",
       "      <td>17</td>\n",
       "      <td>4.13</td>\n",
       "      <td>1997</td>\n",
       "      <td>503</td>\n",
       "      <td>1990</td>\n",
       "      <td>1900</td>\n",
       "    </tr>\n",
       "  </tbody>\n",
       "</table>\n",
       "</div>"
      ],
      "text/plain": [
       "                     title             author  order  rating  \\\n",
       "0         The Hunger Games    Suzanne Collins      1    4.32   \n",
       "3      Pride and Prejudice        Jane Austen      4    4.27   \n",
       "9   The Fault in Our Stars         John Green     10    4.18   \n",
       "10      Gone with the Wind  Margaret Mitchell     11    4.30   \n",
       "16     Memoirs of a Geisha      Arthur Golden     17    4.13   \n",
       "\n",
       "    publication_year  num_pages  decade  century  \n",
       "0               2008        374    2000     2000  \n",
       "3               1813        279    1810     1800  \n",
       "9               2012        313    2010     2000  \n",
       "10              1936       1037    1930     1900  \n",
       "16              1997        503    1990     1900  "
      ]
     },
     "execution_count": 134,
     "metadata": {},
     "output_type": "execute_result"
    }
   ],
   "source": [
    "romances.head()"
   ]
  },
  {
   "cell_type": "code",
   "execution_count": 135,
   "metadata": {},
   "outputs": [],
   "source": [
    "romances = romances.groupby('century').count()[['title']].rename({'title':'count'}, axis=1)"
   ]
  },
  {
   "cell_type": "code",
   "execution_count": 136,
   "metadata": {},
   "outputs": [
    {
     "data": {
      "text/html": [
       "<div>\n",
       "<style scoped>\n",
       "    .dataframe tbody tr th:only-of-type {\n",
       "        vertical-align: middle;\n",
       "    }\n",
       "\n",
       "    .dataframe tbody tr th {\n",
       "        vertical-align: top;\n",
       "    }\n",
       "\n",
       "    .dataframe thead th {\n",
       "        text-align: right;\n",
       "    }\n",
       "</style>\n",
       "<table border=\"1\" class=\"dataframe\">\n",
       "  <thead>\n",
       "    <tr style=\"text-align: right;\">\n",
       "      <th></th>\n",
       "      <th>count</th>\n",
       "    </tr>\n",
       "    <tr>\n",
       "      <th>century</th>\n",
       "      <th></th>\n",
       "    </tr>\n",
       "  </thead>\n",
       "  <tbody>\n",
       "    <tr>\n",
       "      <th>1500</th>\n",
       "      <td>1</td>\n",
       "    </tr>\n",
       "    <tr>\n",
       "      <th>1600</th>\n",
       "      <td>1</td>\n",
       "    </tr>\n",
       "    <tr>\n",
       "      <th>1700</th>\n",
       "      <td>2</td>\n",
       "    </tr>\n",
       "    <tr>\n",
       "      <th>1800</th>\n",
       "      <td>11</td>\n",
       "    </tr>\n",
       "    <tr>\n",
       "      <th>1900</th>\n",
       "      <td>171</td>\n",
       "    </tr>\n",
       "    <tr>\n",
       "      <th>2000</th>\n",
       "      <td>251</td>\n",
       "    </tr>\n",
       "  </tbody>\n",
       "</table>\n",
       "</div>"
      ],
      "text/plain": [
       "         count\n",
       "century       \n",
       "1500         1\n",
       "1600         1\n",
       "1700         2\n",
       "1800        11\n",
       "1900       171\n",
       "2000       251"
      ]
     },
     "execution_count": 136,
     "metadata": {},
     "output_type": "execute_result"
    }
   ],
   "source": [
    "romances"
   ]
  },
  {
   "cell_type": "code",
   "execution_count": 137,
   "metadata": {},
   "outputs": [
    {
     "data": {
      "text/plain": [
       "<matplotlib.axes._subplots.AxesSubplot at 0x7ff9cc6d5850>"
      ]
     },
     "execution_count": 137,
     "metadata": {},
     "output_type": "execute_result"
    },
    {
     "data": {
      "image/png": "[encoded data removed]",
      "text/plain": [
       "<Figure size 432x288 with 1 Axes>"
      ]
     },
     "metadata": {
      "needs_background": "light"
     },
     "output_type": "display_data"
    }
   ],
   "source": [
    "romances.plot(kind = 'bar')"
   ]
  },
  {
   "cell_type": "markdown",
   "metadata": {},
   "source": [
    "Komentar: največ romantičnih romanov je sodobnih, a to je lahko zgolj posledica dejstva, da je večina knjig na seznamu sodobnih. Oglejmo si, iz katerega časa so ljubezenski romani v relativnem smislu največje uspešnice."
   ]
  },
  {
   "cell_type": "code",
   "execution_count": 138,
   "metadata": {},
   "outputs": [
    {
     "name": "stderr",
     "output_type": "stream",
     "text": [
      "<ipython-input-138-538821c1da48>:1: SettingWithCopyWarning: \n",
      "A value is trying to be set on a copy of a slice from a DataFrame.\n",
      "Try using .loc[row_indexer,col_indexer] = value instead\n",
      "\n",
      "See the caveats in the documentation: https://pandas.pydata.org/pandas-docs/stable/user_guide/indexing.html#returning-a-view-versus-a-copy\n",
      "  books['century'] = books['decade'] // 100 * 100\n"
     ]
    }
   ],
   "source": [
    "books['century'] = books['decade'] // 100 * 100"
   ]
  },
  {
   "cell_type": "code",
   "execution_count": 139,
   "metadata": {},
   "outputs": [
    {
     "data": {
      "text/html": [
       "<div>\n",
       "<style scoped>\n",
       "    .dataframe tbody tr th:only-of-type {\n",
       "        vertical-align: middle;\n",
       "    }\n",
       "\n",
       "    .dataframe tbody tr th {\n",
       "        vertical-align: top;\n",
       "    }\n",
       "\n",
       "    .dataframe thead th {\n",
       "        text-align: right;\n",
       "    }\n",
       "</style>\n",
       "<table border=\"1\" class=\"dataframe\">\n",
       "  <thead>\n",
       "    <tr style=\"text-align: right;\">\n",
       "      <th></th>\n",
       "      <th>title</th>\n",
       "      <th>author</th>\n",
       "      <th>order</th>\n",
       "      <th>rating</th>\n",
       "      <th>publication_year</th>\n",
       "      <th>num_pages</th>\n",
       "      <th>decade</th>\n",
       "      <th>century</th>\n",
       "    </tr>\n",
       "  </thead>\n",
       "  <tbody>\n",
       "    <tr>\n",
       "      <th>0</th>\n",
       "      <td>The Hunger Games</td>\n",
       "      <td>Suzanne Collins</td>\n",
       "      <td>1</td>\n",
       "      <td>4.32</td>\n",
       "      <td>2008</td>\n",
       "      <td>374</td>\n",
       "      <td>2000</td>\n",
       "      <td>2000</td>\n",
       "    </tr>\n",
       "    <tr>\n",
       "      <th>1</th>\n",
       "      <td>Harry Potter and the Order of the Phoenix</td>\n",
       "      <td>J.K. Rowling</td>\n",
       "      <td>2</td>\n",
       "      <td>4.50</td>\n",
       "      <td>2003</td>\n",
       "      <td>870</td>\n",
       "      <td>2000</td>\n",
       "      <td>2000</td>\n",
       "    </tr>\n",
       "    <tr>\n",
       "      <th>2</th>\n",
       "      <td>To Kill a Mockingbird</td>\n",
       "      <td>Harper Lee</td>\n",
       "      <td>3</td>\n",
       "      <td>4.28</td>\n",
       "      <td>1960</td>\n",
       "      <td>324</td>\n",
       "      <td>1960</td>\n",
       "      <td>1900</td>\n",
       "    </tr>\n",
       "    <tr>\n",
       "      <th>3</th>\n",
       "      <td>Pride and Prejudice</td>\n",
       "      <td>Jane Austen</td>\n",
       "      <td>4</td>\n",
       "      <td>4.27</td>\n",
       "      <td>1813</td>\n",
       "      <td>279</td>\n",
       "      <td>1810</td>\n",
       "      <td>1800</td>\n",
       "    </tr>\n",
       "    <tr>\n",
       "      <th>5</th>\n",
       "      <td>The Book Thief</td>\n",
       "      <td>Markus Zusak</td>\n",
       "      <td>6</td>\n",
       "      <td>4.38</td>\n",
       "      <td>2005</td>\n",
       "      <td>552</td>\n",
       "      <td>2000</td>\n",
       "      <td>2000</td>\n",
       "    </tr>\n",
       "  </tbody>\n",
       "</table>\n",
       "</div>"
      ],
      "text/plain": [
       "                                       title           author  order  rating  \\\n",
       "0                           The Hunger Games  Suzanne Collins      1    4.32   \n",
       "1  Harry Potter and the Order of the Phoenix     J.K. Rowling      2    4.50   \n",
       "2                      To Kill a Mockingbird       Harper Lee      3    4.28   \n",
       "3                        Pride and Prejudice      Jane Austen      4    4.27   \n",
       "5                             The Book Thief     Markus Zusak      6    4.38   \n",
       "\n",
       "   publication_year  num_pages  decade  century  \n",
       "0              2008        374    2000     2000  \n",
       "1              2003        870    2000     2000  \n",
       "2              1960        324    1960     1900  \n",
       "3              1813        279    1810     1800  \n",
       "5              2005        552    2000     2000  "
      ]
     },
     "execution_count": 139,
     "metadata": {},
     "output_type": "execute_result"
    }
   ],
   "source": [
    "books.head()"
   ]
  },
  {
   "cell_type": "code",
   "execution_count": 140,
   "metadata": {},
   "outputs": [],
   "source": [
    "century_count = books.groupby('century').count()\n",
    "century_count = century_count['title']\n",
    "century_count = century_count.sort_values(ascending=False)"
   ]
  },
  {
   "cell_type": "code",
   "execution_count": 141,
   "metadata": {},
   "outputs": [
    {
     "data": {
      "text/plain": [
       "century\n",
       "1900    2032\n",
       "2000    1192\n",
       "1800     120\n",
       "1500      27\n",
       "1700      23\n",
       "Name: title, dtype: int64"
      ]
     },
     "execution_count": 141,
     "metadata": {},
     "output_type": "execute_result"
    }
   ],
   "source": [
    "century_count.head()"
   ]
  },
  {
   "cell_type": "code",
   "execution_count": 142,
   "metadata": {},
   "outputs": [
    {
     "data": {
      "text/html": [
       "<div>\n",
       "<style scoped>\n",
       "    .dataframe tbody tr th:only-of-type {\n",
       "        vertical-align: middle;\n",
       "    }\n",
       "\n",
       "    .dataframe tbody tr th {\n",
       "        vertical-align: top;\n",
       "    }\n",
       "\n",
       "    .dataframe thead th {\n",
       "        text-align: right;\n",
       "    }\n",
       "</style>\n",
       "<table border=\"1\" class=\"dataframe\">\n",
       "  <thead>\n",
       "    <tr style=\"text-align: right;\">\n",
       "      <th></th>\n",
       "      <th>century</th>\n",
       "      <th>count</th>\n",
       "    </tr>\n",
       "  </thead>\n",
       "  <tbody>\n",
       "    <tr>\n",
       "      <th>0</th>\n",
       "      <td>1900</td>\n",
       "      <td>2032</td>\n",
       "    </tr>\n",
       "    <tr>\n",
       "      <th>1</th>\n",
       "      <td>2000</td>\n",
       "      <td>1192</td>\n",
       "    </tr>\n",
       "    <tr>\n",
       "      <th>2</th>\n",
       "      <td>1800</td>\n",
       "      <td>120</td>\n",
       "    </tr>\n",
       "    <tr>\n",
       "      <th>3</th>\n",
       "      <td>1500</td>\n",
       "      <td>27</td>\n",
       "    </tr>\n",
       "    <tr>\n",
       "      <th>4</th>\n",
       "      <td>1700</td>\n",
       "      <td>23</td>\n",
       "    </tr>\n",
       "  </tbody>\n",
       "</table>\n",
       "</div>"
      ],
      "text/plain": [
       "   century  count\n",
       "0     1900   2032\n",
       "1     2000   1192\n",
       "2     1800    120\n",
       "3     1500     27\n",
       "4     1700     23"
      ]
     },
     "execution_count": 142,
     "metadata": {},
     "output_type": "execute_result"
    }
   ],
   "source": [
    "century_count = century_count.reset_index()\n",
    "century_count.columns = ['century', 'count']\n",
    "century_count.head()"
   ]
  },
  {
   "cell_type": "code",
   "execution_count": 143,
   "metadata": {},
   "outputs": [],
   "source": [
    "romances.reset_index(inplace=True)"
   ]
  },
  {
   "cell_type": "code",
   "execution_count": 144,
   "metadata": {},
   "outputs": [
    {
     "data": {
      "text/html": [
       "<div>\n",
       "<style scoped>\n",
       "    .dataframe tbody tr th:only-of-type {\n",
       "        vertical-align: middle;\n",
       "    }\n",
       "\n",
       "    .dataframe tbody tr th {\n",
       "        vertical-align: top;\n",
       "    }\n",
       "\n",
       "    .dataframe thead th {\n",
       "        text-align: right;\n",
       "    }\n",
       "</style>\n",
       "<table border=\"1\" class=\"dataframe\">\n",
       "  <thead>\n",
       "    <tr style=\"text-align: right;\">\n",
       "      <th></th>\n",
       "      <th>century</th>\n",
       "      <th>count</th>\n",
       "    </tr>\n",
       "  </thead>\n",
       "  <tbody>\n",
       "    <tr>\n",
       "      <th>0</th>\n",
       "      <td>1500</td>\n",
       "      <td>1</td>\n",
       "    </tr>\n",
       "    <tr>\n",
       "      <th>1</th>\n",
       "      <td>1600</td>\n",
       "      <td>1</td>\n",
       "    </tr>\n",
       "    <tr>\n",
       "      <th>2</th>\n",
       "      <td>1700</td>\n",
       "      <td>2</td>\n",
       "    </tr>\n",
       "    <tr>\n",
       "      <th>3</th>\n",
       "      <td>1800</td>\n",
       "      <td>11</td>\n",
       "    </tr>\n",
       "    <tr>\n",
       "      <th>4</th>\n",
       "      <td>1900</td>\n",
       "      <td>171</td>\n",
       "    </tr>\n",
       "  </tbody>\n",
       "</table>\n",
       "</div>"
      ],
      "text/plain": [
       "   century  count\n",
       "0     1500      1\n",
       "1     1600      1\n",
       "2     1700      2\n",
       "3     1800     11\n",
       "4     1900    171"
      ]
     },
     "execution_count": 144,
     "metadata": {},
     "output_type": "execute_result"
    }
   ],
   "source": [
    "romances.head()"
   ]
  },
  {
   "cell_type": "code",
   "execution_count": 155,
   "metadata": {},
   "outputs": [
    {
     "data": {
      "text/html": [
       "<div>\n",
       "<style scoped>\n",
       "    .dataframe tbody tr th:only-of-type {\n",
       "        vertical-align: middle;\n",
       "    }\n",
       "\n",
       "    .dataframe tbody tr th {\n",
       "        vertical-align: top;\n",
       "    }\n",
       "\n",
       "    .dataframe thead th {\n",
       "        text-align: right;\n",
       "    }\n",
       "</style>\n",
       "<table border=\"1\" class=\"dataframe\">\n",
       "  <thead>\n",
       "    <tr style=\"text-align: right;\">\n",
       "      <th></th>\n",
       "      <th>century</th>\n",
       "      <th>romances</th>\n",
       "      <th>total</th>\n",
       "      <th>percentage_of_romances</th>\n",
       "    </tr>\n",
       "  </thead>\n",
       "  <tbody>\n",
       "    <tr>\n",
       "      <th>0</th>\n",
       "      <td>1500</td>\n",
       "      <td>1</td>\n",
       "      <td>27</td>\n",
       "      <td>0.037037</td>\n",
       "    </tr>\n",
       "    <tr>\n",
       "      <th>1</th>\n",
       "      <td>1600</td>\n",
       "      <td>1</td>\n",
       "      <td>22</td>\n",
       "      <td>0.045455</td>\n",
       "    </tr>\n",
       "    <tr>\n",
       "      <th>2</th>\n",
       "      <td>1700</td>\n",
       "      <td>2</td>\n",
       "      <td>23</td>\n",
       "      <td>0.086957</td>\n",
       "    </tr>\n",
       "    <tr>\n",
       "      <th>3</th>\n",
       "      <td>1800</td>\n",
       "      <td>11</td>\n",
       "      <td>120</td>\n",
       "      <td>0.091667</td>\n",
       "    </tr>\n",
       "    <tr>\n",
       "      <th>4</th>\n",
       "      <td>1900</td>\n",
       "      <td>171</td>\n",
       "      <td>2032</td>\n",
       "      <td>0.084154</td>\n",
       "    </tr>\n",
       "    <tr>\n",
       "      <th>5</th>\n",
       "      <td>2000</td>\n",
       "      <td>251</td>\n",
       "      <td>1192</td>\n",
       "      <td>0.210570</td>\n",
       "    </tr>\n",
       "  </tbody>\n",
       "</table>\n",
       "</div>"
      ],
      "text/plain": [
       "   century  romances  total  percentage_of_romances\n",
       "0     1500         1     27                0.037037\n",
       "1     1600         1     22                0.045455\n",
       "2     1700         2     23                0.086957\n",
       "3     1800        11    120                0.091667\n",
       "4     1900       171   2032                0.084154\n",
       "5     2000       251   1192                0.210570"
      ]
     },
     "execution_count": 155,
     "metadata": {},
     "output_type": "execute_result"
    }
   ],
   "source": [
    "romances_percentage = romances.merge(century_count, on='century')\n",
    "romances_percentage.columns = ['century', 'romances', 'total']\n",
    "romances_percentage['percentage_of_romances'] = romances_percentage['romances'] / romances_percentage['total']\n",
    "romances_percentage.sort_values('percentage_of_romances')\n",
    "romances_percentage"
   ]
  },
  {
   "cell_type": "markdown",
   "metadata": {},
   "source": [
    "Relativni delež romantičnih knjig"
   ]
  },
  {
   "cell_type": "code",
   "execution_count": 156,
   "metadata": {},
   "outputs": [
    {
     "data": {
      "text/plain": [
       "<matplotlib.axes._subplots.AxesSubplot at 0x7ff9d164fc10>"
      ]
     },
     "execution_count": 156,
     "metadata": {},
     "output_type": "execute_result"
    },
    {
     "data": {
      "image/png": "[encoded data removed]",
      "text/plain": [
       "<Figure size 432x288 with 1 Axes>"
      ]
     },
     "metadata": {
      "needs_background": "light"
     },
     "output_type": "display_data"
    }
   ],
   "source": [
    "romances_percentage.plot(kind='bar', x='century', y='percentage_of_romances')"
   ]
  },
  {
   "cell_type": "markdown",
   "metadata": {},
   "source": [
    "Komentar: v nasprotju s predvidevanji je največji delež romantičnih knjig iz 20. stoletja"
   ]
  }
 ],
 "metadata": {
  "kernelspec": {
   "display_name": "Python 3",
   "language": "python",
   "name": "python3"
  },
  "language_info": {
   "codemirror_mode": {
    "name": "ipython",
    "version": 3
   },
   "file_extension": ".py",
   "mimetype": "text/x-python",
   "name": "python",
   "nbconvert_exporter": "python",
   "pygments_lexer": "ipython3",
   "version": "3.8.10"
  }
 },
 "nbformat": 4,
 "nbformat_minor": 2
}
